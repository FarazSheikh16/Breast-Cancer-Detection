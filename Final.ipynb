{
  "cells": [
    {
      "cell_type": "markdown",
      "metadata": {
        "id": "lW1cAEBI8baX"
      },
      "source": [
        "### Import relevant Libraries\n"
      ]
    },
    {
      "cell_type": "code",
      "execution_count": 62,
      "metadata": {
        "id": "bmvg7X1zUAps"
      },
      "outputs": [],
      "source": [
        "\n",
        "import torch\n",
        "import torchvision\n",
        "from torchvision import transforms\n",
        "from torch.utils.data import DataLoader, Subset\n",
        "from transformers import ViTForImageClassification"
      ]
    },
    {
      "cell_type": "markdown",
      "metadata": {
        "id": "WzLm6spf8hcp"
      },
      "source": [
        "## Loading the test Dataset"
      ]
    },
    {
      "cell_type": "code",
      "execution_count": 53,
      "metadata": {
        "id": "ZZUgM0QoUIXn"
      },
      "outputs": [],
      "source": [
        "dataset = torchvision.datasets.ImageFolder(\n",
        "    root=\"MINIMias-mod/Test\",\n",
        "    transform=transforms.Compose([\n",
        "        transforms.Grayscale(),  # Convert to grayscale\n",
        "        transforms.Resize(224),  # Resize to ViT input size\n",
        "        transforms.ToTensor(),\n",
        "        transforms.Normalize(mean=[0.5], std=[0.5]),# Normalize for ViT\n",
        "        transforms.Lambda(lambda x: x.repeat(3, 1, 1))  # Repeat for 3 channels\n",
        "    ])\n",
        ")"
      ]
    },
    {
      "cell_type": "code",
      "execution_count": 54,
      "metadata": {
        "id": "qfsLWlyhUku7"
      },
      "outputs": [],
      "source": [
        "test_loader = DataLoader(dataset, batch_size=32, shuffle=False)"
      ]
    },
    {
      "cell_type": "code",
      "execution_count": 55,
      "metadata": {
        "colab": {
          "base_uri": "https://localhost:8080/"
        },
        "id": "729LhKUQZ7VF",
        "outputId": "24f09c40-408f-4357-8086-5403cba08968"
      },
      "outputs": [
        {
          "name": "stdout",
          "output_type": "stream",
          "text": [
            "Device: cuda\n"
          ]
        }
      ],
      "source": [
        "\n",
        "device = torch.device(\"cuda\" if torch.cuda.is_available() else \"cpu\")\n",
        "print(f\"Device: {device}\")\n"
      ]
    },
    {
      "cell_type": "markdown",
      "metadata": {
        "id": "VFp6ihcK9U8P"
      },
      "source": [
        "### Applying Data Augmentation to the training set"
      ]
    },
    {
      "cell_type": "code",
      "execution_count": 56,
      "metadata": {
        "id": "drNxVt-zUxjO"
      },
      "outputs": [],
      "source": [
        "from sklearn.model_selection import KFold\n",
        "from sklearn.model_selection import StratifiedShuffleSplit\n",
        "\n",
        "dataset = torchvision.datasets.ImageFolder(\n",
        "    root=\"MINIMias-mod/Train\",\n",
        "    transform=transforms.Compose([\n",
        "        transforms.Grayscale(),  # Convert to grayscale\n",
        "        transforms.Resize(224),  # Resize to ViT input size\n",
        "        transforms.RandomVerticalFlip(),  # Randomly flip the image vertically\n",
        "        transforms.RandomRotation(45),  # Randomly rotate the image by up to 45 degrees  # Adjust brightness, contrast, saturation, and hue\n",
        "        transforms.RandomResizedCrop(224, scale=(0.8, 1.0), ratio=(0.8, 1.2)),  # Randomly crop and resize the image\n",
        "        transforms.ToTensor(),\n",
        "        transforms.Normalize(mean=[0.5], std=[0.5]),  # Normalize for ViT\n",
        "        transforms.Lambda(lambda x: x.repeat(3, 1, 1))  # Repeat for 3 channels\n",
        "    ])\n",
        ")"
      ]
    },
    {
      "cell_type": "code",
      "execution_count": 57,
      "metadata": {
        "id": "TLOP8DfgXCYG"
      },
      "outputs": [],
      "source": [
        "num_folds = 5\n",
        "kfold = KFold(n_splits=num_folds, shuffle=True)\n",
        "# kfold = StratifiedShuffleSplit(n_splits=3, test_size=0.2, random_state=42)"
      ]
    },
    {
      "cell_type": "code",
      "execution_count": 58,
      "metadata": {
        "colab": {
          "base_uri": "https://localhost:8080/"
        },
        "id": "wIrRp8sfXiuj",
        "outputId": "0441b261-120f-4fb6-cf0a-d185e66d394c"
      },
      "outputs": [
        {
          "name": "stderr",
          "output_type": "stream",
          "text": [
            "Some weights of ViTForImageClassification were not initialized from the model checkpoint at google/vit-base-patch16-224-in21k and are newly initialized: ['classifier.weight', 'classifier.bias']\n",
            "You should probably TRAIN this model on a down-stream task to be able to use it for predictions and inference.\n"
          ]
        },
        {
          "data": {
            "text/plain": [
              "ViTForImageClassification(\n",
              "  (vit): ViTModel(\n",
              "    (embeddings): ViTEmbeddings(\n",
              "      (patch_embeddings): ViTPatchEmbeddings(\n",
              "        (projection): Conv2d(3, 768, kernel_size=(16, 16), stride=(16, 16))\n",
              "      )\n",
              "      (dropout): Dropout(p=0.0, inplace=False)\n",
              "    )\n",
              "    (encoder): ViTEncoder(\n",
              "      (layer): ModuleList(\n",
              "        (0-11): 12 x ViTLayer(\n",
              "          (attention): ViTAttention(\n",
              "            (attention): ViTSelfAttention(\n",
              "              (query): Linear(in_features=768, out_features=768, bias=True)\n",
              "              (key): Linear(in_features=768, out_features=768, bias=True)\n",
              "              (value): Linear(in_features=768, out_features=768, bias=True)\n",
              "              (dropout): Dropout(p=0.0, inplace=False)\n",
              "            )\n",
              "            (output): ViTSelfOutput(\n",
              "              (dense): Linear(in_features=768, out_features=768, bias=True)\n",
              "              (dropout): Dropout(p=0.0, inplace=False)\n",
              "            )\n",
              "          )\n",
              "          (intermediate): ViTIntermediate(\n",
              "            (dense): Linear(in_features=768, out_features=3072, bias=True)\n",
              "            (intermediate_act_fn): GELUActivation()\n",
              "          )\n",
              "          (output): ViTOutput(\n",
              "            (dense): Linear(in_features=3072, out_features=768, bias=True)\n",
              "            (dropout): Dropout(p=0.0, inplace=False)\n",
              "          )\n",
              "          (layernorm_before): LayerNorm((768,), eps=1e-12, elementwise_affine=True)\n",
              "          (layernorm_after): LayerNorm((768,), eps=1e-12, elementwise_affine=True)\n",
              "        )\n",
              "      )\n",
              "    )\n",
              "    (layernorm): LayerNorm((768,), eps=1e-12, elementwise_affine=True)\n",
              "  )\n",
              "  (classifier): Linear(in_features=768, out_features=2, bias=True)\n",
              ")"
            ]
          },
          "execution_count": 58,
          "metadata": {},
          "output_type": "execute_result"
        }
      ],
      "source": [
        "\n",
        "model = ViTForImageClassification.from_pretrained(\"google/vit-base-patch16-224-in21k\", num_channels=3,ignore_mismatched_sizes=True)  # Specify num_channels here\n",
        "model.to(device)\n"
      ]
    },
    {
      "cell_type": "markdown",
      "metadata": {
        "id": "ks_J5Neg-42D"
      },
      "source": [
        "## Training cell"
      ]
    },
    {
      "cell_type": "code",
      "execution_count": null,
      "metadata": {
        "colab": {
          "base_uri": "https://localhost:8080/",
          "height": 1000
        },
        "id": "Et-LPnc7XHna",
        "outputId": "579b7f07-bd55-4783-94fe-54d9cbef0283"
      },
      "outputs": [],
      "source": [
        "from sklearn.metrics import accuracy_score, classification_report, confusion_matrix\n",
        "\n",
        "optimizer = torch.optim.AdamW(model.parameters(), lr=5e-5)\n",
        "num_epochs = 75\n",
        "best_val_accuracy = 0\n",
        "\n",
        "## training on all 5 folds\n",
        "for fold, (train_indices, test_indices) in enumerate(kfold.split(dataset)):\n",
        "    print(f\"Fold {fold + 1}/{num_folds}\")\n",
        "\n",
        "    # Split dataset into train and test sets\n",
        "    train_set = Subset(dataset, train_indices)\n",
        "    val_set = Subset(dataset, test_indices)\n",
        "    train_loader = DataLoader(train_set, batch_size=32, shuffle=False)\n",
        "    val_loader = DataLoader(val_set, batch_size=32, shuffle=False)\n",
        "\n",
        "\n",
        "\n",
        "    for epoch in range(num_epochs):\n",
        "        # Training phase\n",
        "        model.train()\n",
        "        train_running_loss = 0.0\n",
        "        train_correct = 0\n",
        "        train_total = 0\n",
        "\n",
        "        for i, (images, labels) in enumerate(train_loader):\n",
        "            images, labels = images.to(device), labels.to(device)\n",
        "            outputs = model(images)\n",
        "            loss = torch.nn.functional.cross_entropy(outputs.logits, labels)\n",
        "            optimizer.zero_grad()\n",
        "            loss.backward()\n",
        "            optimizer.step()\n",
        "\n",
        "            # Print training statistics after each batch\n",
        "            train_running_loss += loss.item() * images.size(0)  # Accumulate loss for the epoch\n",
        "            _, predicted = torch.max(outputs.logits, 1)\n",
        "            train_correct += (predicted == labels).sum().item()\n",
        "            train_total += labels.size(0)\n",
        "\n",
        "            print(f\"Epoch {epoch + 1}/{num_epochs}, Batch {i+1}/{len(train_loader)}, Training Loss: {loss.item():.4f}, Training Accuracy: {100 * train_correct / train_total:.2f}%\")\n",
        "\n",
        "        model.eval()\n",
        "        val_correct = 0\n",
        "        val_total = 0\n",
        "        true_labels = []\n",
        "        predicted_labels = []\n",
        "        with torch.no_grad():\n",
        "            for images, labels in val_loader:\n",
        "                images, labels = images.to(device), labels.to(device)\n",
        "\n",
        "                outputs = model(images)\n",
        "                _, predicted = torch.max(outputs.logits, 1)\n",
        "                val_correct += (predicted == labels).sum().item()\n",
        "                val_total += labels.size(0)\n",
        "            for images, labels in test_loader:\n",
        "              images, labels = images.to(device), labels.to(device)\n",
        "\n",
        "              outputs = model(images)\n",
        "              _, predicted = torch.max(outputs.logits, 1)\n",
        "\n",
        "              true_labels.extend(labels.cpu().numpy())\n",
        "              predicted_labels.extend(predicted.cpu().numpy())\n",
        "\n",
        "\n",
        "            val_accuracy = 100 * val_correct / val_total\n",
        "            print(f\"Epoch {epoch + 1}/{num_epochs}, Validation Accuracy: {val_accuracy:.2f}%\")\n",
        "\n",
        "            test_accuracy = accuracy_score(true_labels, predicted_labels)\n",
        "            # print(f\"Test Accuracy: {test_accuracy * 100:.2f}%\")\n",
        "\n",
        "\n",
        "\n",
        "            if test_accuracy > best_val_accuracy:\n",
        "                best_val_accuracy = test_accuracy\n",
        "                best_model_state = model.state_dict()\n",
        "                torch.save(model.state_dict(), 'SIPbest.pt')\n",
        "                print(\"saved best model with accuracy: \", best_val_accuracy)\n",
        "\n",
        "model.load_state_dict(best_model_state)\n",
        "\n",
        "\n"
      ]
    },
    {
      "cell_type": "markdown",
      "metadata": {
        "id": "nmFyI5wD--p1"
      },
      "source": [
        "## Testing cell"
      ]
    },
    {
      "cell_type": "code",
      "execution_count": 64,
      "metadata": {
        "colab": {
          "base_uri": "https://localhost:8080/",
          "height": 728
        },
        "id": "kyoNBG4yUrBh",
        "outputId": "27784ad8-2d95-4688-e8bb-279f6d9db1d9"
      },
      "outputs": [
        {
          "name": "stdout",
          "output_type": "stream",
          "text": [
            "Test Accuracy: 75.00%\n",
            "Classification Report:\n",
            "              precision    recall  f1-score   support\n",
            "\n",
            "           0       0.73      0.80      0.76        10\n",
            "           1       0.78      0.70      0.74        10\n",
            "\n",
            "    accuracy                           0.75        20\n",
            "   macro avg       0.75      0.75      0.75        20\n",
            "weighted avg       0.75      0.75      0.75        20\n",
            "\n",
            "Confusion Matrix:\n"
          ]
        },
        {
          "data": {
            "image/png": "[encoded data removed]",
            "text/plain": [
              "<Figure size 800x600 with 1 Axes>"
            ]
          },
          "metadata": {},
          "output_type": "display_data"
        }
      ],
      "source": [
        "import torch\n",
        "import torch.nn as nn\n",
        "import matplotlib.pyplot as plt\n",
        "from sklearn.metrics import accuracy_score, classification_report, confusion_matrix\n",
        "\n",
        "\n",
        "\n",
        "# Load the model checkpoint\n",
        "checkpoint = torch.load(\"SIPbest.pt\")\n",
        "model.load_state_dict(checkpoint)\n",
        "# model.load_state_dict(best_model_state)\n",
        "model.eval()\n",
        "\n",
        "# Lists to store true and predicted labels\n",
        "true_labels = []\n",
        "predicted_labels = []\n",
        "\n",
        "with torch.no_grad():\n",
        "    for images, labels in test_loader:\n",
        "        images, labels = images.to(device), labels.to(device)\n",
        "\n",
        "        outputs = model(images)\n",
        "        _, predicted = torch.max(outputs.logits, 1)\n",
        "\n",
        "        true_labels.extend(labels.cpu().numpy())\n",
        "        predicted_labels.extend(predicted.cpu().numpy())\n",
        "\n",
        "# Calculate accuracy\n",
        "test_accuracy = accuracy_score(true_labels, predicted_labels)\n",
        "print(f\"Test Accuracy: {test_accuracy * 100:.2f}%\")\n",
        "\n",
        "# Display classification report\n",
        "print(\"Classification Report:\")\n",
        "print(classification_report(true_labels, predicted_labels))\n",
        "\n",
        "# Display confusion matrix\n",
        "print(\"Confusion Matrix:\")\n",
        "conf_matrix = confusion_matrix(true_labels, predicted_labels)\n",
        "\n",
        "import seaborn as sns\n",
        "class_labels = ['benign', 'malignant']\n",
        "plt.figure(figsize=(8, 6))\n",
        "sns.heatmap(conf_matrix, annot=True, fmt='d', cmap='Blues', cbar=False,\n",
        "            xticklabels=class_labels, yticklabels=class_labels)\n",
        "plt.title(\"Confusion Matrix\")\n",
        "plt.xlabel(\"Predicted labels\")\n",
        "plt.ylabel(\"True labels\")\n",
        "plt.show()\n"
      ]
    },
    {
      "cell_type": "code",
      "execution_count": null,
      "metadata": {
        "id": "z_gOZOfFxtC9"
      },
      "outputs": [],
      "source": []
    }
  ],
  "metadata": {
    "accelerator": "GPU",
    "colab": {
      "gpuType": "T4",
      "provenance": []
    },
    "kernelspec": {
      "display_name": "Python 3",
      "name": "python3"
    },
    "language_info": {
      "name": "python"
    }
  },
  "nbformat": 4,
  "nbformat_minor": 0
}
